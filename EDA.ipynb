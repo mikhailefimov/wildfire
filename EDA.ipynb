{
 "cells": [
  {
   "cell_type": "code",
   "execution_count": null,
   "metadata": {},
   "outputs": [],
   "source": [
    "import pandas as pd\n",
    "import numpy as np\n",
    "import matplotlib.pyplot as plt\n",
    "import seaborn\n",
    "from tqdm import tqdm\n",
    "import pickle\n",
    "import os\n",
    "\n",
    "DATA_PATH = './data'\n",
    "\n",
    "def plot_sum(df, group_col, title, xticks_map=None, typ='bar'):\n",
    "    grp = df.groupby(group_col).size()\n",
    "    x = [xticks_map[x] for x in grp.index] if xticks_map else grp.index\n",
    "    if typ=='bar':\n",
    "        plt.bar(x, grp.values)\n",
    "    else:\n",
    "        plt.plot(x, grp.values, typ)\n",
    "    plt.xticks(x)\n",
    "    plt.title(title)"
   ]
  },
  {
   "cell_type": "code",
   "execution_count": null,
   "metadata": {},
   "outputs": [],
   "source": [
    "df_train = pd.read_csv(os.path.join(DATA_PATH,'wildfires_train.csv'),parse_dates=['date'],index_col='fire_id')\n",
    "print(df_train.shape)"
   ]
  },
  {
   "cell_type": "code",
   "execution_count": null,
   "metadata": {},
   "outputs": [],
   "source": [
    "df_train.head()"
   ]
  },
  {
   "cell_type": "code",
   "execution_count": null,
   "metadata": {},
   "outputs": [],
   "source": [
    "fire_types = df_train.groupby('fire_type').fire_type_name.min().to_dict()\n",
    "fire_types"
   ]
  },
  {
   "cell_type": "markdown",
   "metadata": {},
   "source": [
    "**Даны координаты и время события, нужно отнести его к одному из 11 классов.**"
   ]
  },
  {
   "cell_type": "markdown",
   "metadata": {},
   "source": [
    "## Распределение по классам"
   ]
  },
  {
   "cell_type": "code",
   "execution_count": null,
   "metadata": {},
   "outputs": [],
   "source": [
    "rows_by_type = df_train.groupby('fire_type_name').size().sort_values()\n",
    "plt.figure(figsize=(12,6))\n",
    "plt.barh(rows_by_type.index, rows_by_type.values);"
   ]
  },
  {
   "cell_type": "code",
   "execution_count": null,
   "metadata": {},
   "outputs": [],
   "source": [
    "print(\"Дисбаланс классов: min\",rows_by_type.values.min(),\" max\", rows_by_type.values.max())"
   ]
  },
  {
   "cell_type": "markdown",
   "metadata": {},
   "source": [
    "## Время"
   ]
  },
  {
   "cell_type": "code",
   "execution_count": null,
   "metadata": {},
   "outputs": [],
   "source": [
    "df_train['weekday'] = df_train.date.dt.weekday\n",
    "df_train['month'] = df_train.date.dt.month\n",
    "df_train['year'] = df_train.date.dt.year\n",
    "\n",
    "print(\"Период: \",df_train.date.min().strftime(\"%d.%m.%Y\"),\"-\",df_train.date.max().strftime(\"%d.%m.%Y\"))"
   ]
  },
  {
   "cell_type": "markdown",
   "metadata": {},
   "source": [
    "Данные за 2019 год не полные, нужно учитывать это при анализе распределений"
   ]
  },
  {
   "cell_type": "markdown",
   "metadata": {},
   "source": [
    "### Распределение по месяцам"
   ]
  },
  {
   "cell_type": "code",
   "execution_count": null,
   "metadata": {
    "scrolled": false
   },
   "outputs": [],
   "source": [
    "plt.figure(figsize=(16,12))\n",
    "for fire_type, title in fire_types.items():\n",
    "    plt.subplot(3,4,fire_type)\n",
    "    plot_sum(df_train[(df_train.year<2019) & (df_train.fire_type==fire_type)],'month',title);\n",
    "\n",
    "plt.subplot(3,4,12)\n",
    "plot_sum(df_train[(df_train.year<2019)],'month',\"Итого по всем типам\");\n",
    "\n",
    "plt.suptitle('Распределение по месяцам для каждого типа событий');"
   ]
  },
  {
   "cell_type": "markdown",
   "metadata": {},
   "source": [
    "- Зимой торфянники не горят.\n",
    "- Лес горит весной и летом.\n",
    "- Мусор жгут весной и осенью.\n",
    "- Распределение ложных сигналов примерно соответствует распределению общего числа пожаров."
   ]
  },
  {
   "cell_type": "code",
   "execution_count": null,
   "metadata": {},
   "outputs": [],
   "source": [
    "plt.figure(figsize=(16,12))\n",
    "for month,title in ((1,\"Январь\"), (2,\"Февраль\"), (3,\"Март\"), (4,\"Апрель\"), (5,\"Май\"), (6,\"Июнь\"),\n",
    "                    (7,\"Июль\"), (8,\"Август\"), (9,\"Сентябрь\"), (10,\"Октябрь\"), (11,\"Ноябрь\"), (12,\"Декабрь\")):\n",
    "    plt.subplot(3,4,month)\n",
    "    plot_sum(df_train[df_train.month==month],'fire_type',title);\n",
    "\n",
    "plt.suptitle('Распределение по типам событий в каждом месяце');"
   ]
  },
  {
   "cell_type": "markdown",
   "metadata": {},
   "source": [
    "**Распределение событий по типам в каждом месяце сильно отличается.**"
   ]
  },
  {
   "cell_type": "markdown",
   "metadata": {},
   "source": [
    "### Распределение по дням недели"
   ]
  },
  {
   "cell_type": "code",
   "execution_count": null,
   "metadata": {},
   "outputs": [],
   "source": [
    "weekdays = {0:'Пн',1:'Вт',2:'Ср',3:'Чт',4:'Пт',5:'Сб',6:'Вс'}\n",
    "plt.figure(figsize=(16,12))\n",
    "for fire_type, title in fire_types.items():\n",
    "    plt.subplot(3,4,fire_type)\n",
    "    plot_sum(df_train[df_train.fire_type==fire_type],'weekday',title,weekdays);\n",
    "\n",
    "plt.subplot(3,4,12)\n",
    "plot_sum(df_train,'weekday',\"Итого по всем типам\",weekdays);\n",
    "\n",
    "plt.suptitle('Распределение по дням недели для каждого типа событий');"
   ]
  },
  {
   "cell_type": "markdown",
   "metadata": {},
   "source": [
    "**\"Неконтролируемый пал\" немного смещён к концу недели, \"контролируемый\" - к середине.**\n",
    "\n",
    "**У некоторых типов событий заметна некоторая неравномерность по дням недели**"
   ]
  },
  {
   "cell_type": "markdown",
   "metadata": {},
   "source": [
    "## Долгосрочная динамика"
   ]
  },
  {
   "cell_type": "code",
   "execution_count": null,
   "metadata": {},
   "outputs": [],
   "source": [
    "year_map = {i:i-2000 for i in range(2012,2019)}\n",
    "plt.figure(figsize=(16,12))\n",
    "for fire_type, title in fire_types.items():\n",
    "    plt.subplot(3,4,fire_type)\n",
    "    plot_sum(df_train[(df_train.year<2019) & (df_train.fire_type==fire_type)], 'year', title, year_map, typ='-');\n",
    "\n",
    "plt.subplot(3,4,12)\n",
    "plot_sum(df_train[(df_train.year<2019)], 'year', 'Итого по всем типам', year_map, typ='-');\n",
    "\n",
    "plt.suptitle('Распределение по годам для каждого типа событий');"
   ]
  },
  {
   "cell_type": "code",
   "execution_count": null,
   "metadata": {
    "scrolled": false
   },
   "outputs": [],
   "source": [
    "plt.figure(figsize=(16,12))\n",
    "for fire_type in range(1,12):\n",
    "    grp = df_train[(df_train.year<2019) & (df_train.fire_type==fire_type)].year.value_counts().sort_index()\n",
    "    plt.plot(grp.index,grp.values,label=fire_types[fire_type]);\n",
    "plt.legend();\n",
    "plt.suptitle('Распределение событий по годам');"
   ]
  },
  {
   "cell_type": "code",
   "execution_count": null,
   "metadata": {},
   "outputs": [],
   "source": [
    "plt.figure(figsize=(16,8))\n",
    "for year in range(2012,2020):\n",
    "    plt.subplot(2,4,year-2011)\n",
    "    plot_sum(df_train[df_train.year==year],'fire_type',year if year<2019 else '2019 (4 месяца)');\n",
    "\n",
    "plt.suptitle('Распределение по типам событий в каждый год');"
   ]
  },
  {
   "cell_type": "markdown",
   "metadata": {},
   "source": [
    "**Распределение существенно меняется со временем.**"
   ]
  },
  {
   "cell_type": "markdown",
   "metadata": {},
   "source": [
    "## География "
   ]
  },
  {
   "cell_type": "code",
   "execution_count": null,
   "metadata": {},
   "outputs": [],
   "source": [
    "print('Широта : %f - %f' %(df_train.latitude.min(),df_train.latitude.max()))\n",
    "print('Долгота : %f - %f' %(df_train.longitude.min(),df_train.longitude.max()))"
   ]
  },
  {
   "cell_type": "code",
   "execution_count": null,
   "metadata": {},
   "outputs": [],
   "source": [
    "from mpl_toolkits.basemap import Basemap"
   ]
  },
  {
   "cell_type": "code",
   "execution_count": null,
   "metadata": {},
   "outputs": [],
   "source": [
    "fig=plt.figure(figsize=(16,8))\n",
    "m = Basemap(llcrnrlon=14,llcrnrlat=36,urcrnrlon=179,urcrnrlat=73,projection='merc')\n",
    "m.bluemarble(scale=0.5)\n",
    "m.drawcountries(color='yellow')\n",
    "m.scatter(latlon=True, x=df_train.longitude.values, y=df_train.latitude.values,\n",
    "          c=df_train.fire_type.values, s=1, cmap='hot', alpha=0.5)\n",
    "plt.show()"
   ]
  },
  {
   "cell_type": "code",
   "execution_count": null,
   "metadata": {},
   "outputs": [],
   "source": [
    "def plotmap(df, lon=\"longitude\", lat=\"latitude\", title='', color=None, size=None):\n",
    "    m = Basemap(llcrnrlon=14,llcrnrlat=36,urcrnrlon=179,urcrnrlat=73,projection='merc')\n",
    "    m.fillcontinents(color='#f0f0f0',zorder=0)\n",
    "    m.drawcountries(color='#888888')\n",
    "    m.scatter(latlon=True, x=df[lon].values, y=df[lat].values, color='blue',\n",
    "              s=1 if size is None else df[size], alpha=0.5)\n",
    "    plt.title(title)"
   ]
  },
  {
   "cell_type": "code",
   "execution_count": null,
   "metadata": {
    "scrolled": false
   },
   "outputs": [],
   "source": [
    "fig=plt.figure(figsize=(16,24))\n",
    "\n",
    "for TYPE in range(1,12):\n",
    "    plt.subplot(6,2,TYPE)\n",
    "    plotmap(df_train[df_train.fire_type==TYPE],title=fire_types[TYPE])\n",
    "\n",
    "plt.subplot(6,2,12)\n",
    "plotmap(df_train,title=\"Итого по всем типам\")"
   ]
  },
  {
   "cell_type": "markdown",
   "metadata": {},
   "source": [
    "**Распределение событий по территории неоднородно и зависит от типа.**"
   ]
  },
  {
   "cell_type": "markdown",
   "metadata": {},
   "source": [
    "## Интерактивные карты\n",
    "\n",
    "(Работают только с plotly 4, в контейнере версия 3.3.)"
   ]
  },
  {
   "cell_type": "code",
   "execution_count": null,
   "metadata": {},
   "outputs": [],
   "source": [
    "import plotly\n",
    "if plotly.__version__>='4.0.0':\n",
    "    from plotly import express as px\n",
    "    def plotmap(df,lon='longitude',lat='latitude',title=''):\n",
    "        fig = px.scatter_mapbox(df, lat=lat, lon=lon, color=color, size=size,\n",
    "                          color_continuous_scale=px.colors.cyclical.IceFire)\n",
    "        fig.update_layout(mapbox_style='carto-positron', mapbox_zoom=2, mapbox_center = {'lat': 60, 'lon': 60})\n",
    "        fig.update_layout(margin={'r':0,'t':0,'l':0,'b':0})\n",
    "        print(title)\n",
    "        fig.show()\n",
    "    for TYPE in range(1,12):\n",
    "        plotmap(df_train[df_train.fire_type==TYPE],title=fire_types[TYPE])"
   ]
  }
 ],
 "metadata": {
  "kernelspec": {
   "display_name": "Python 3",
   "language": "python",
   "name": "python3"
  },
  "language_info": {
   "codemirror_mode": {
    "name": "ipython",
    "version": 3
   },
   "file_extension": ".py",
   "mimetype": "text/x-python",
   "name": "python",
   "nbconvert_exporter": "python",
   "pygments_lexer": "ipython3",
   "version": "3.6.9"
  }
 },
 "nbformat": 4,
 "nbformat_minor": 2
}
